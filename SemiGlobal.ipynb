{
 "cells": [
  {
   "cell_type": "code",
   "execution_count": 1,
   "metadata": {},
   "outputs": [],
   "source": [
    "import numpy as np"
   ]
  },
  {
   "cell_type": "markdown",
   "metadata": {},
   "source": [
    "# Initializing variables"
   ]
  },
  {
   "cell_type": "code",
   "execution_count": 2,
   "metadata": {},
   "outputs": [],
   "source": [
    "direction={1:'left',2:'diagonal',3:'up'}\n",
    "alphLookUp={'A':0,'R':1,'N':2,'D':3,\n",
    "            'C':4,'Q':5,'E':6,'G':7,\n",
    "            'H':8,'I':9,'L':10,'K':11,\n",
    "            'M':12,'F':13,'P':14,'S':15,\n",
    "            'T':16,'W':17,'Y':18,'V':19}\n",
    "scoreMat=[[4,0,0,0,0,0,0,0,0,0,0,0,0,0,0,0,0,0,0,0],\n",
    "         [-1,5,0,0,0,0,0,0,0,0,0,0,0,0,0,0,0,0,0,0],\n",
    "         [-2,0,6,0,0,0,0,0,0,0,0,0,0,0,0,0,0,0,0,0],\n",
    "         [-2,-2,1,6,0,0,0,0,0,0,0,0,0,0,0,0,0,0,0,0],\n",
    "         [0,-3,-3,-3,9,0,0,0,0,0,0,0,0,0,0,0,0,0,0,0],\n",
    "         [-1,1,0,0,-3,5,0,0,0,0,0,0,0,0,0,0,0,0,0,0],\n",
    "         [-1,0,0,2,-4,2,5,0,0,0,0,0,0,0,0,0,0,0,0,0],\n",
    "         [0,-2,0,-1,-3,-2,-2,6,0,0,0,0,0,0,0,0,0,0,0,0],\n",
    "         [-2,0,1,-1,-3,0,0,-2,8,0,0,0,0,0,0,0,0,0,0,0],\n",
    "         [-1,-3,-3,-3,-1,-3,-3,-4,3,4,0,0,0,0,0,0,0,0,0,0],\n",
    "         [-1,-2,-3,-4,-1,-2,-3,-4,-3,2,4,0,0,0,0,0,0,0,0,0],\n",
    "         [-1,2,0,-1,-3,1,1,-2,-1,-3,-2,5,0,0,0,0,0,0,0,0],\n",
    "         [-1,-1,-2,-3,-1,0,-2,-3,-2,1,2,-1,5,0,0,0,0,0,0,0],\n",
    "         [-2,-3,-3,-3,-2,-3,-3,-3,-1,0,0,-3,0,6,0,0,0,0,0,0],\n",
    "         [-1,-2,-2,-1,-3,-1,-1,-2,-2,-3,-3,-1,-2,-4,7,0,0,0,0,0],\n",
    "         [1,-1,1,0,-1,0,0,0,-1,-2,-2,0,-1,-2,-1,4,0,0,0,0],\n",
    "         [0,-1,0,-1,-1,-1,-1,-2,-2,-1,-1,-1,-1,-2,-1,1,5,0,0,0],\n",
    "         [-3,-3,-4,-4,-2,-2,-3,-2,-2,-3,-2,-3,-1,1,-4,-3,-2,11,0,0],\n",
    "         [-2,-2,-2,-3,-2,-1,-2,-3,2,-1,-1,-2,-1,3,-3,-2,-2,2,7,0],\n",
    "         [0,-3,-3,-3,-1,-2,-2,-3,-3,3,1,-2,1,-1,-2,-2,0,-3,-1,4]]"
   ]
  },
  {
   "cell_type": "markdown",
   "metadata": {},
   "source": [
    "# Defining some necessary functions"
   ]
  },
  {
   "cell_type": "code",
   "execution_count": 3,
   "metadata": {},
   "outputs": [],
   "source": [
    "def score(x1,x2):\n",
    "    try:\n",
    "        if(alphLookUp[x1]<=alphLookUp[x2]):\n",
    "            x=scoreMat[alphLookUp[x2]][alphLookUp[x1]]\n",
    "        else:\n",
    "            x=scoreMat[alphLookUp[x1]][alphLookUp[x2]]\n",
    "    except:\n",
    "        x=-4\n",
    "    return x\n",
    "def backTrack(x):\n",
    "    x=x*10\n",
    "    x=x%10\n",
    "    return x\n",
    "\n",
    "def findMax(x):\n",
    "    a,b=x.shape\n",
    "    M=x[a-1][b-1]\n",
    "    mx=a-1\n",
    "    my=b-1\n",
    "    for i in range(0,a):\n",
    "        if M<x[i][b-1]:\n",
    "            M=x[i][b-1]\n",
    "            mx=i\n",
    "            my=b-1\n",
    "    for i in range(0,b):\n",
    "        if M<x[a-1][i]:\n",
    "            M=x[a-1][i]\n",
    "            mx=a-1\n",
    "            my=i\n",
    "    return mx,my"
   ]
  },
  {
   "cell_type": "markdown",
   "metadata": {},
   "source": [
    "# Main Algorithm"
   ]
  },
  {
   "cell_type": "code",
   "execution_count": 4,
   "metadata": {},
   "outputs": [],
   "source": [
    "def semi_global(s1,s2,gp):\n",
    "    x=len(s1)+1\n",
    "    y=len(s2)+1\n",
    "    xMat=np.zeros((x,y))\n",
    "    ns1=''\n",
    "    ns2=''\n",
    "    for i in range(1,x):\n",
    "        for j in range(1,y):\n",
    "            u=int(xMat[i-1][j])+gp\n",
    "            d=int(xMat[i-1][j-1])+score(s1[i-1],s2[j-1])\n",
    "            l=int(xMat[i][j-1])+gp\n",
    "            valList=[0,l,d,u]\n",
    "            xMat[i][j]=max(valList)\n",
    "            index=valList.index(max(valList))\n",
    "            xMat[i][j]+=index/10\n",
    "    mx,my=findMax(xMat)\n",
    "    while(xMat[mx][my]>0):\n",
    "        if(direction[backTrack(xMat[mx][my])]=='diagonal'):\n",
    "            ns1=s1[mx-1]+ns1\n",
    "            ns2=s2[my-1]+ns2\n",
    "            mx+=-1\n",
    "            my+=-1\n",
    "        elif(direction[backTrack(xMat[mx][my])]=='left'):\n",
    "            ns1='_'+ns1\n",
    "            ns2=s2[my-1]+ns2\n",
    "            my+=-1\n",
    "        elif(direction[backTrack(xMat[mx][my])]=='up'):\n",
    "            ns1=s1[mx-1]+ns1\n",
    "            ns2='_'+ns2\n",
    "            mx+=-1\n",
    "    return ns1,ns2"
   ]
  },
  {
   "cell_type": "markdown",
   "metadata": {},
   "source": [
    "# Main Function"
   ]
  },
  {
   "cell_type": "code",
   "execution_count": 6,
   "metadata": {},
   "outputs": [
    {
     "name": "stdin",
     "output_type": "stream",
     "text": [
      "Enter a gap penalty: -1\n",
      "Enter the sequence 1: stft\n",
      "Enter the sequence 2: fstw\n"
     ]
    },
    {
     "name": "stdout",
     "output_type": "stream",
     "text": [
      "\n",
      "STF\n",
      "STW\n"
     ]
    }
   ],
   "source": [
    "if __name__=='__main__':\n",
    "    gp=int(input('Enter a gap penalty:'))\n",
    "    seq1=input('Enter the sequence 1:')\n",
    "    seq2=input('Enter the sequence 2:')\n",
    "    \n",
    "    nSeq1,nSeq2=semi_global(seq1.upper(),seq2.upper(),gp)\n",
    "    \n",
    "    print('\\n'+nSeq1+'\\n'+nSeq2)"
   ]
  },
  {
   "cell_type": "code",
   "execution_count": null,
   "metadata": {},
   "outputs": [],
   "source": []
  }
 ],
 "metadata": {
  "kernelspec": {
   "display_name": "Python 3",
   "language": "python",
   "name": "python3"
  },
  "language_info": {
   "codemirror_mode": {
    "name": "ipython",
    "version": 3
   },
   "file_extension": ".py",
   "mimetype": "text/x-python",
   "name": "python",
   "nbconvert_exporter": "python",
   "pygments_lexer": "ipython3",
   "version": "3.7.3"
  }
 },
 "nbformat": 4,
 "nbformat_minor": 4
}
